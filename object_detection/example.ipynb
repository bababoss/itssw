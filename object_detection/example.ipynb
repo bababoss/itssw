{
 "cells": [
  {
   "cell_type": "code",
   "execution_count": 24,
   "metadata": {},
   "outputs": [
    {
     "name": "stdout",
     "output_type": "stream",
     "text": [
      "660 660\n"
     ]
    }
   ],
   "source": [
    "import glob,os\n",
    "def im_label_list(impath,label_path):\n",
    "\n",
    "    l_path=glob.glob(label_path+'*.label')\n",
    "    label_list=[]\n",
    "    image_list=[]\n",
    "    for i in l_path:\n",
    "        #print(os.path.split(i)[-1].split('.')[0])\n",
    "        with open(i) as file:\n",
    "            for items in file:\n",
    "                item = items.rstrip('\\n')\n",
    "                label_list.append(item)\n",
    "                break\n",
    "        image_list.append(impath+os.path.split(i)[-1].split('.')[0]+'.jpg')\n",
    "\n",
    "    return {\"imageList\":image_list,\"labelList\":label_list}\n",
    "\n",
    "label_path=\"/home/cogknit/experiments/dataset/clean_label_660/\"\n",
    "impath=\"/home/cogknit/experiments/dataset/final_clean_data_656/\"\n",
    "data=im_label_list(impath,label_path)\n",
    "print(len(data[\"imageList\"]),len(data[\"labelList\"]))"
   ]
  },
  {
   "cell_type": "code",
   "execution_count": 22,
   "metadata": {},
   "outputs": [
    {
     "name": "stdout",
     "output_type": "stream",
     "text": [
      "660\n"
     ]
    }
   ],
   "source": [
    "from shutil import copyfile\n",
    "import glob,os\n",
    "# copyfile(src, dst)\n",
    "src=\"/home/cogknit/experiments/dataset/new_900_dataset_label/001/001/\"\n",
    "dst=\"/home/cogknit/experiments/dataset/clean_label_660/\"\n",
    "\n",
    "labe_data=glob.glob(src+'*.txt')\n",
    "count=0\n",
    "for i in labe_data:\n",
    "    name=os.path.split(i)[-1].split('.')[0]\n",
    "    #print(name)\n",
    "    #copyfile(src+name+'.jpg', dst+name+'.jpg')\n",
    "    #copyfile(i, dst+name+'.txt')\n",
    "\n",
    "    with open(i) as f:\n",
    "        content = f.readlines()\n",
    "        content = [x.strip() for x in content] \n",
    "        if  content and content[0][0]=='1':\n",
    "            count+=1\n",
    "            #print(\"adada: \",content)\n",
    "            #copyfile(src+name+'.jpg', dst+name+'.jpg')\n",
    "            #copyfile(src+name+'.label', dst+name+'.label')\n",
    "print(count)"
   ]
  },
  {
   "cell_type": "code",
   "execution_count": null,
   "metadata": {},
   "outputs": [],
   "source": []
  }
 ],
 "metadata": {
  "kernelspec": {
   "display_name": "Python 3",
   "language": "python",
   "name": "python3"
  },
  "language_info": {
   "codemirror_mode": {
    "name": "ipython",
    "version": 3
   },
   "file_extension": ".py",
   "mimetype": "text/x-python",
   "name": "python",
   "nbconvert_exporter": "python",
   "pygments_lexer": "ipython3",
   "version": "3.5.2"
  }
 },
 "nbformat": 4,
 "nbformat_minor": 2
}
