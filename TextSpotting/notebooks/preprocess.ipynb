{
 "cells": [
  {
   "cell_type": "code",
   "execution_count": 10,
   "metadata": {},
   "outputs": [
    {
     "name": "stdout",
     "output_type": "stream",
     "text": [
      "3477 3477\n",
      "3477 3477\n"
     ]
    }
   ],
   "source": [
    "import glob\n",
    "from shutil import copyfile\n",
    "train_images=glob.glob(\"/home/gpu-machine/projects/TextSpotting/data/final_image_2820/*.jpg\")\n",
    "label_list=glob.glob(\"/home/gpu-machine/projects/TextSpotting/data/final_lable_2820/*.label\")\n",
    "src=\"/home/gpu-machine/projects/TextSpotting/data/final_image_2820/\"\n",
    "print(len(train_images),len(label_list))\n",
    "dst=\"/home/gpu-machine/projects/TextSpotting/data/Train/\"\n",
    "with open(\"/home/gpu-machine/projects/TextSpotting/data/Train/sample.txt\",'w') as f:\n",
    "    for ll in label_list[:3000]:\n",
    "        with open(ll) as lf:\n",
    "            content=lf.readlines()\n",
    "            #print(content[0].strip().lower().replace(\" \", \"\"))\n",
    "            if not content[0].strip('\\n'):\n",
    "                print(\"najknf\",ll)\n",
    "            f.write(dst+ll.split('/')[-1].split('.')[0]+\".jpg,\"+content[0].strip().lower().replace(\" \", \"\")+\"\\n\")\n",
    "            #copyfile(src+ll.split('/')[-1].split('.')[0]+\".jpg\",dst+ll.split('/')[-1].split('.')[0]+\".jpg\")\n",
    "\n",
    "print(len(train_images),len(label_list))\n",
    "dst_test=\"/home/gpu-machine/projects/TextSpotting/data/Test/\"\n",
    "with open(\"/home/gpu-machine/projects/TextSpotting/data/Test/sample.txt\",'w') as f: \n",
    "    for ll in label_list[3000:]:\n",
    "        with open(ll) as lf:\n",
    "            content=lf.readlines()\n",
    "            #print(content[0].strip().lower().replace(\" \", \"\"))\n",
    "            if not content[0].strip('\\n'):\n",
    "                print(\"najknf\",ll)\n",
    "            f.write(dst_test+ll.split('/')[-1].split('.')[0]+\".jpg,\"+content[0].strip().lower().replace(\" \", \"\")+\"\\n\")\n",
    "            #copyfile(src+ll.split('/')[-1].split('.')[0]+\".jpg\",dst_test+ll.split('/')[-1].split('.')[0]+\".jpg\")\n",
    "    "
   ]
  },
  {
   "cell_type": "code",
   "execution_count": 11,
   "metadata": {},
   "outputs": [
    {
     "data": {
      "text/plain": [
       "477"
      ]
     },
     "execution_count": 11,
     "metadata": {},
     "output_type": "execute_result"
    }
   ],
   "source": [
    "l=glob.glob(\"/home/gpu-machine/projects/TextSpotting/data/Test/*.jpg\")\n",
    "len(l)"
   ]
  },
  {
   "cell_type": "code",
   "execution_count": null,
   "metadata": {},
   "outputs": [],
   "source": []
  },
  {
   "cell_type": "code",
   "execution_count": null,
   "metadata": {},
   "outputs": [],
   "source": [
    "import glob\n",
    "from shutil import copyfile\n",
    "train_images=glob.glob(\"/home/gpu-machine/projects/dataset/rnpd_dataset/Train/*.jpg\")\n",
    "label_list=glob.glob(\"/home/gpu-machine/projects/TextSpotting/data/clean_label_660/*.label\")\n",
    "src=\"/home/gpu-machine/projects/dataset/rnpd_dataset/Train/\"\n",
    "\n",
    "dst=\"/home/gpu-machine/projects/TextSpotting/data/Test/\"\n",
    "with open(\"/home/gpu-machine/projects/TextSpotting/data/Test/sample.txt\",'w') as f:\n",
    "    for ll in label_list:\n",
    "        with open(ll) as lf:\n",
    "            content=lf.readlines()\n",
    "            print(content[0].strip().lower().replace(\" \", \"\"))\n",
    "            if not content[0].strip('\\n'):\n",
    "                print(\"najknf\",ll)\n",
    "#             f.write(dst+ll.split('/')[-1].split('.')[0]+\".jpg,\"+content[0].strip().lower().replace(\" \", \"\")+\"\\n\")\n",
    "            copyfile(src+ll.split('/')[-1].split('.')[0]+\".label\",dst+ll.split('/')[-1].split('.')[0]+\".lable\")\n",
    "   "
   ]
  },
  {
   "cell_type": "code",
   "execution_count": null,
   "metadata": {},
   "outputs": [],
   "source": [
    "import numpy as np\n",
    "an_path=\"/home/cogknit/experiments/CRNN_Tensorflow/sample.txt\"\n",
    "with open(an_path,'r') as anno_file:\n",
    "    info = np.array([tmp.strip().split(',') for tmp in anno_file.readlines()])\n",
    "    print(info)"
   ]
  }
 ],
 "metadata": {
  "kernelspec": {
   "display_name": "Python 3",
   "language": "python",
   "name": "python3"
  },
  "language_info": {
   "codemirror_mode": {
    "name": "ipython",
    "version": 3
   },
   "file_extension": ".py",
   "mimetype": "text/x-python",
   "name": "python",
   "nbconvert_exporter": "python",
   "pygments_lexer": "ipython3",
   "version": "3.5.2"
  }
 },
 "nbformat": 4,
 "nbformat_minor": 2
}
