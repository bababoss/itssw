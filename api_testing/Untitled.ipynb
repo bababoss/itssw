{
 "cells": [
  {
   "cell_type": "code",
   "execution_count": 1,
   "metadata": {},
   "outputs": [],
   "source": [
    "import redis\n",
    "pool= redis.ConnectionPool(host='localhost', port=6379, db=0)\n",
    "r = redis.Redis(connection_pool=pool)"
   ]
  },
  {
   "cell_type": "code",
   "execution_count": 3,
   "metadata": {},
   "outputs": [
    {
     "name": "stdout",
     "output_type": "stream",
     "text": [
      "b'valeue'\n",
      "dd None\n"
     ]
    }
   ],
   "source": [
    "r.set('key_data',\"valeue\")\n",
    "\n",
    "d=r.get('key_data')\n",
    "print(d)\n",
    "r.delete('key_data')\n",
    "d=r.get('key_data')\n",
    "print('dd',d)"
   ]
  },
  {
   "cell_type": "code",
   "execution_count": 2,
   "metadata": {},
   "outputs": [
    {
     "name": "stdout",
     "output_type": "stream",
     "text": [
      "228\n"
     ]
    }
   ],
   "source": [
    "def foo(data):\n",
    "    print(data*19)\n",
    "    return  data*19\n",
    "\n",
    "def call(fun):\n",
    "    fun(12)\n",
    "    \n",
    "call(foo)"
   ]
  },
  {
   "cell_type": "code",
   "execution_count": null,
   "metadata": {},
   "outputs": [],
   "source": []
  }
 ],
 "metadata": {
  "kernelspec": {
   "display_name": "vision3Env",
   "language": "python",
   "name": "vision3env"
  },
  "language_info": {
   "codemirror_mode": {
    "name": "ipython",
    "version": 3
   },
   "file_extension": ".py",
   "mimetype": "text/x-python",
   "name": "python",
   "nbconvert_exporter": "python",
   "pygments_lexer": "ipython3",
   "version": "3.5.2"
  }
 },
 "nbformat": 4,
 "nbformat_minor": 2
}
