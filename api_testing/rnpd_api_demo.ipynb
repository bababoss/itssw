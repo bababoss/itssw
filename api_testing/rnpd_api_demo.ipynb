{
 "cells": [
  {
   "cell_type": "markdown",
   "metadata": {},
   "source": [
    "# Upload Image and get metadata"
   ]
  },
  {
   "cell_type": "code",
   "execution_count": 1,
   "metadata": {},
   "outputs": [],
   "source": [
    "import requests,json,glob\n",
    "import pprint as pp\n",
    "headers = {'Content-type': 'application/json'}\n",
    "host=\"http://335.227.148.145:8890\""
   ]
  },
  {
   "cell_type": "markdown",
   "metadata": {},
   "source": [
    "# Video as input "
   ]
  },
  {
   "cell_type": "code",
   "execution_count": 29,
   "metadata": {},
   "outputs": [
    {
     "name": "stdout",
     "output_type": "stream",
     "text": [
      "{\"success\":true,\"response\":{\"media_id\":\"69\",\"message\":{\"recognition\":[]}}}\n"
     ]
    }
   ],
   "source": [
    "files = {'media_file': open('/home/gpu-machine/projects/rnpd/media/sample_media/1.h264','rb')}\n",
    "url=host+\"/api/v1/rnpd\"\n",
    "payload={\"email\":\"suresh@cogknit.com\"}\n",
    "r = requests.post(url, files=files,data=payload)\n",
    "print(r.text)"
   ]
  },
  {
   "cell_type": "markdown",
   "metadata": {},
   "source": [
    "# Image as input"
   ]
  },
  {
   "cell_type": "code",
   "execution_count": 2,
   "metadata": {},
   "outputs": [
    {
     "name": "stdout",
     "output_type": "stream",
     "text": [
      "{\"response\":{\"id\":2192,\"number_plate_text\":\"{'number_plate_text': 'hr26ay9804'}\",\"created\":\"2018-08-24T19:01:05.732558+05:30\",\"media_url\":\"http://35.227.148.145//media/uploaded_media/99c4949b29fe442891ee1ee432398ce2.jpg\",\"plate_metadata\":[{\"detected_path\":\"http://35.227.148.145/media/result_media/99c4949b29fe442891ee1ee432398ce2.jpg\",\"bounding_box\":[1344,601,1686,791]}]},\"success\":true}\n",
      "{\"response\":{\"id\":2193,\"number_plate_text\":\"{'number_plate_text': 'hr26by4804'}\",\"created\":\"2018-08-24T19:01:12.332523+05:30\",\"media_url\":\"http://35.227.148.145//media/uploaded_media/4d2c2697b7024c8db03d9f9796e693c0.jpg\",\"plate_metadata\":[{\"detected_path\":\"http://35.227.148.145/media/result_media/4d2c2697b7024c8db03d9f9796e693c0.jpg\",\"bounding_box\":[854,505,1143,632]}]},\"success\":true}\n"
     ]
    }
   ],
   "source": [
    "import requests,json,glob\n",
    "import pprint as pp\n",
    "def get_result(path):\n",
    "    headers = {'Content-type': 'application/json'}\n",
    "    files = {'media_file': open(path,'rb')}\n",
    "    url=\"http://35.227.148.145:8890/api/v1/rnpd\"\n",
    "    payload={\"email\":\"visionrival.ai@gmail.com\"}\n",
    "    r = requests.post(url, files=files,data=payload)\n",
    "    print(r.text)\n",
    "\n",
    "# path=\"/home/gpu-machine/......./uploaded_media/596f8f704e1442ab9939c92f5a6940bc.jpg\"\n",
    "# get_result(path)\n",
    "\n",
    "image_list=glob.glob(\"/home/gpu-machine/projects/dataset/Test_image/45/*.jpg\")\n",
    "for i in image_list[:2]:\n",
    "    get_result(i)\n",
    "\n"
   ]
  },
  {
   "cell_type": "markdown",
   "metadata": {},
   "source": [
    "# Image display"
   ]
  },
  {
   "cell_type": "code",
   "execution_count": 1,
   "metadata": {},
   "outputs": [
    {
     "name": "stdout",
     "output_type": "stream",
     "text": [
      "(52, 136)\n"
     ]
    },
    {
     "data": {
      "text/plain": [
       "<matplotlib.image.AxesImage at 0x7fcf4928c128>"
      ]
     },
     "execution_count": 1,
     "metadata": {},
     "output_type": "execute_result"
    },
    {
     "data": {
      "image/png": "[encoded data removed]",
      "text/plain": [
       "<matplotlib.figure.Figure at 0x7fcf67fbb6a0>"
      ]
     },
     "metadata": {},
     "output_type": "display_data"
    }
   ],
   "source": [
    "from matplotlib.pyplot import imshow\n",
    "import numpy as np\n",
    "from PIL import Image\n",
    "import glob\n",
    "%matplotlib inline\n",
    "path=\"\"\n",
    "imlist=glob.glob(path+\"*.jpg\")\n",
    "pil_im = Image.open(\"/home/gpu-machine/projects/rnpd/media/result_media/b194856ed30d48c49de30ff36a6362be.jpg\",'r')\n",
    "print(pil_im.size)\n",
    "imshow(np.asarray(pil_im))\n",
    "#pil_im.show() "
   ]
  },
  {
   "cell_type": "code",
   "execution_count": null,
   "metadata": {},
   "outputs": [],
   "source": []
  }
 ],
 "metadata": {
  "kernelspec": {
   "display_name": "vision3Env",
   "language": "python",
   "name": "vision3env"
  },
  "language_info": {
   "codemirror_mode": {
    "name": "ipython",
    "version": 3
   },
   "file_extension": ".py",
   "mimetype": "text/x-python",
   "name": "python",
   "nbconvert_exporter": "python",
   "pygments_lexer": "ipython3",
   "version": "3.5.2"
  }
 },
 "nbformat": 4,
 "nbformat_minor": 2
}
